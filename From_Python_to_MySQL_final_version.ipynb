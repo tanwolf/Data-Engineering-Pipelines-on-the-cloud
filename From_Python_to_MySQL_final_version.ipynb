{
  "cells": [
    {
      "cell_type": "code",
      "execution_count": null,
      "id": "8912611f-43da-4a19-8708-01ab05090aad",
      "metadata": {
        "id": "8912611f-43da-4a19-8708-01ab05090aad"
      },
      "outputs": [],
      "source": [
        "import os\n",
        "import sqlalchemy\n",
        "import pandas as pd\n",
        "from dotenv import load_dotenv\n",
        "\n",
        "# How to connect Python to MySQL:\n",
        "#https://yuthakarn.medium.com/how-to-not-show-credential-in-jupyter-notebook-c349f9278466\n",
        "\n",
        "load_dotenv()"
      ]
    },
    {
      "cell_type": "code",
      "execution_count": null,
      "id": "a837feb7-0333-46ff-995b-62723876739b",
      "metadata": {
        "id": "a837feb7-0333-46ff-995b-62723876739b"
      },
      "outputs": [],
      "source": [
        "#cities = pd.read_csv('cities_df.csv')\n",
        "#airports = pd.read_csv('airports_df.csv')\n",
        "#arrivals = pd.read_csv('arrivals_df_copy.csv')\n",
        "weather = pd.read_csv('weather_df.csv')"
      ]
    },
    {
      "cell_type": "code",
      "execution_count": null,
      "id": "0215f80b-a87e-4e12-90cd-496c67bc5f04",
      "metadata": {
        "id": "0215f80b-a87e-4e12-90cd-496c67bc5f04"
      },
      "outputs": [],
      "source": [
        "cities.to_sql('cities', \n",
        "              if_exists='append', \n",
        "              con=con, \n",
        "              index=False)"
      ]
    },
    {
      "cell_type": "code",
      "execution_count": null,
      "id": "31c6a331-2b88-4ec3-b537-deb997eda82c",
      "metadata": {
        "id": "31c6a331-2b88-4ec3-b537-deb997eda82c"
      },
      "outputs": [],
      "source": [
        "airports.to_sql('airports',\n",
        "              if_exists='append',\n",
        "              con=con,\n",
        "              index=False)"
      ]
    },
    {
      "cell_type": "code",
      "execution_count": null,
      "id": "49df74f1-1fee-40b4-9f76-8f63d8671b09",
      "metadata": {
        "id": "49df74f1-1fee-40b4-9f76-8f63d8671b09"
      },
      "outputs": [],
      "source": [
        "arrivals.to_sql('arrivals', \n",
        "              if_exists='replace', \n",
        "              con=con, \n",
        "              index=False)"
      ]
    },
    {
      "cell_type": "code",
      "execution_count": null,
      "id": "009e614f-9300-4f27-b5dd-1d1772de92a7",
      "metadata": {
        "id": "009e614f-9300-4f27-b5dd-1d1772de92a7"
      },
      "outputs": [],
      "source": [
        "weather.to_sql('weather', \n",
        "              if_exists='replace', \n",
        "              con=con, \n",
        "              index=False)"
      ]
    },
    {
      "cell_type": "code",
      "execution_count": null,
      "id": "49ba02d7-e769-4a15-b367-bfe346b41bcc",
      "metadata": {
        "id": "49ba02d7-e769-4a15-b367-bfe346b41bcc",
        "outputId": "254a2090-4660-4745-d4ac-26c4444173da"
      },
      "outputs": [
        {
          "name": "stdout",
          "output_type": "stream",
          "text": [
            "<class 'pandas.core.frame.DataFrame'>\n",
            "RangeIndex: 15 entries, 0 to 14\n",
            "Data columns (total 7 columns):\n",
            " #   Column          Non-Null Count  Dtype  \n",
            "---  ------          --------------  -----  \n",
            " 0   city_id         15 non-null     object \n",
            " 1   city            15 non-null     object \n",
            " 2   country         15 non-null     object \n",
            " 3   elevation       12 non-null     float64\n",
            " 4   city_latitude   15 non-null     float64\n",
            " 5   city_longitude  15 non-null     float64\n",
            " 6   population      15 non-null     int64  \n",
            "dtypes: float64(3), int64(1), object(3)\n",
            "memory usage: 968.0+ bytes\n"
          ]
        }
      ],
      "source": [
        "cities.info()"
      ]
    },
    {
      "cell_type": "code",
      "execution_count": null,
      "id": "93e0b791-0785-4df2-a11d-2c0d0eebe471",
      "metadata": {
        "id": "93e0b791-0785-4df2-a11d-2c0d0eebe471"
      },
      "outputs": [],
      "source": [
        ""
      ]
    }
  ],
  "metadata": {
    "kernelspec": {
      "display_name": "Python 3 (ipykernel)",
      "language": "python",
      "name": "python3"
    },
    "language_info": {
      "codemirror_mode": {
        "name": "ipython",
        "version": 3
      },
      "file_extension": ".py",
      "mimetype": "text/x-python",
      "name": "python",
      "nbconvert_exporter": "python",
      "pygments_lexer": "ipython3",
      "version": "3.9.7"
    },
    "colab": {
      "name": "From Python to MySQL final version.ipynb",
      "provenance": []
    }
  },
  "nbformat": 4,
  "nbformat_minor": 5
}